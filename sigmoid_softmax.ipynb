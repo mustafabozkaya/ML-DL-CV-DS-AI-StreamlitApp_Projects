{
  "nbformat": 4,
  "nbformat_minor": 0,
  "metadata": {
    "colab": {
      "name": "sigmoid_softmax.ipynb",
      "provenance": [],
      "collapsed_sections": [],
      "authorship_tag": "ABX9TyMhJdniZssNrzI4QramzWOn",
      "include_colab_link": true
    },
    "kernelspec": {
      "name": "python3",
      "display_name": "Python 3"
    },
    "language_info": {
      "name": "python"
    }
  },
  "cells": [
    {
      "cell_type": "markdown",
      "metadata": {
        "id": "view-in-github",
        "colab_type": "text"
      },
      "source": [
        "<a href=\"https://colab.research.google.com/github/mustafabozkaya/Machine-DeeplearningProjects/blob/master/sigmoid_softmax.ipynb\" target=\"_parent\"><img src=\"https://colab.research.google.com/assets/colab-badge.svg\" alt=\"Open In Colab\"/></a>"
      ]
    },
    {
      "cell_type": "code",
      "execution_count": 1,
      "metadata": {
        "colab": {
          "base_uri": "https://localhost:8080/",
          "height": 216
        },
        "id": "jkIG0TdNxZg7",
        "outputId": "3b3cbdaa-d6b0-4a12-bfeb-d3c8f3caa600"
      },
      "outputs": [
        {
          "output_type": "display_data",
          "data": {
            "image/png": "[encoded data removed]",
            "text/plain": [
              "<Figure size 432x288 with 2 Axes>"
            ]
          },
          "metadata": {
            "needs_background": "light"
          }
        }
      ],
      "source": [
        "import matplotlib.pyplot as plt\n",
        "import numpy as np\n",
        "\n",
        "\n",
        "x = np.linspace(-2*np.pi, 2*np.pi, 100)\n",
        "xx = x + 1j * x[:, np.newaxis] # a + ib over complex plane\n",
        "out = np.exp(xx)\n",
        "plt.subplot(121)\n",
        "plt.imshow(np.abs(out),\n",
        "           extent=[-2*np.pi, 2*np.pi, -2*np.pi, 2*np.pi], cmap='gray')\n",
        "plt.title('Magnitude of exp(x)')\n",
        "plt.subplot(122)\n",
        "plt.imshow(np.angle(out),\n",
        "           extent=[-2*np.pi, 2*np.pi, -2*np.pi, 2*np.pi], cmap='hsv')\n",
        "plt.title('Phase (angle) of exp(x)')\n",
        "plt.show()"
      ]
    },
    {
      "cell_type": "code",
      "source": [
        "np.exp(1)"
      ],
      "metadata": {
        "colab": {
          "base_uri": "https://localhost:8080/"
        },
        "id": "fblUFXO5xgFb",
        "outputId": "938f27b7-2b22-4660-eb96-2b93df376413"
      },
      "execution_count": 2,
      "outputs": [
        {
          "output_type": "execute_result",
          "data": {
            "text/plain": [
              "2.718281828459045"
            ]
          },
          "metadata": {},
          "execution_count": 2
        }
      ]
    },
    {
      "cell_type": "code",
      "source": [
        "np.expm1(1)"
      ],
      "metadata": {
        "colab": {
          "base_uri": "https://localhost:8080/"
        },
        "id": "w0_Y6-4tysOS",
        "outputId": "b6e47f63-b4a4-48c6-e09d-7d460f44ab87"
      },
      "execution_count": 3,
      "outputs": [
        {
          "output_type": "execute_result",
          "data": {
            "text/plain": [
              "1.718281828459045"
            ]
          },
          "metadata": {},
          "execution_count": 3
        }
      ]
    },
    {
      "cell_type": "code",
      "source": [
        "\n",
        "x = np.linspace(-10, 10, 20)\n",
        "\n",
        "out = 1/(1+np.exp(-x))\n",
        "out2= np.exp(x)\n",
        "plt.subplot(121)\n",
        "plt.plot(x,out)\n",
        "plt.title('sigmoid')\n",
        "\n",
        "plt.subplot(122)\n",
        "plt.plot(x,out2)\n",
        "plt.title('exp(x)')\n",
        "\n",
        "plt.show()"
      ],
      "metadata": {
        "colab": {
          "base_uri": "https://localhost:8080/",
          "height": 281
        },
        "id": "7UHeqCI-y8Ek",
        "outputId": "286d45cc-fb6f-4672-fd2e-f1a800387b21"
      },
      "execution_count": 4,
      "outputs": [
        {
          "output_type": "display_data",
          "data": {
            "image/png": "[encoded data removed]",
            "text/plain": [
              "<Figure size 432x288 with 2 Axes>"
            ]
          },
          "metadata": {
            "needs_background": "light"
          }
        }
      ]
    },
    {
      "cell_type": "code",
      "source": [
        "x = np.linspace(-5, 5, 15)\n",
        "\n",
        "def sigmoid(a):\n",
        "  eular=list(map(lambda x: 1/(1+np.exp(-x)),a))\n",
        "  return eular\n",
        "\n",
        "def softmax(x):\n",
        "  euler_x=(lambda *args: np.exp(args))(x)\n",
        "  sum_eular=list(map(lambda x: x/ np.sum(euler_x),euler_x))\n",
        "\n",
        "  return sum_eular\n",
        "\n",
        "out = sigmoid(x)\n",
        "out2= np.exp(x)\n",
        "plt.subplot(121)\n",
        "plt.plot(x,out)\n",
        "plt.title('sigmoid')\n",
        "\n",
        "plt.subplot(122)\n",
        "plt.plot(x,out2)\n",
        "plt.title('exp(x)')\n",
        "\n",
        "plt.show()"
      ],
      "metadata": {
        "colab": {
          "base_uri": "https://localhost:8080/",
          "height": 281
        },
        "id": "hHk3DtTdNiU2",
        "outputId": "9c57914e-7fa6-4389-b652-417493c469e4"
      },
      "execution_count": 5,
      "outputs": [
        {
          "output_type": "display_data",
          "data": {
            "image/png": "[encoded data removed]",
            "text/plain": [
              "<Figure size 432x288 with 2 Axes>"
            ]
          },
          "metadata": {
            "needs_background": "light"
          }
        }
      ]
    },
    {
      "cell_type": "code",
      "source": [
        "out = sigmoid(x)\n",
        "out2= softmax(x)\n",
        "np.shape(out2)"
      ],
      "metadata": {
        "colab": {
          "base_uri": "https://localhost:8080/"
        },
        "id": "41vRaxR3sn-a",
        "outputId": "b3bb98ed-a11a-410f-82b5-a3a708000a81"
      },
      "execution_count": 6,
      "outputs": [
        {
          "output_type": "execute_result",
          "data": {
            "text/plain": [
              "(1, 15)"
            ]
          },
          "metadata": {},
          "execution_count": 6
        }
      ]
    },
    {
      "cell_type": "code",
      "source": [
        "plt.subplot(121)\n",
        "plt.plot(x,out)\n",
        "plt.title('sigmoid')\n",
        "\n",
        "plt.subplot(122)\n",
        "plt.plot(x,np.reshape(out2,(-1,1)))\n",
        "plt.title('softmax')\n",
        "\n",
        "plt.show()"
      ],
      "metadata": {
        "colab": {
          "base_uri": "https://localhost:8080/",
          "height": 281
        },
        "id": "CPfkVUVou5A7",
        "outputId": "77f1151f-135f-4f43-ee58-3e342cc29749"
      },
      "execution_count": 7,
      "outputs": [
        {
          "output_type": "display_data",
          "data": {
            "image/png": "[encoded data removed]",
            "text/plain": [
              "<Figure size 432x288 with 2 Axes>"
            ]
          },
          "metadata": {
            "needs_background": "light"
          }
        }
      ]
    },
    {
      "cell_type": "code",
      "source": [
        "np.shape(x)"
      ],
      "metadata": {
        "colab": {
          "base_uri": "https://localhost:8080/"
        },
        "id": "gZmuS4xTk6ZU",
        "outputId": "b015aaca-8eed-47c4-e0b9-7bd0c9a71324"
      },
      "execution_count": 8,
      "outputs": [
        {
          "output_type": "execute_result",
          "data": {
            "text/plain": [
              "(15,)"
            ]
          },
          "metadata": {},
          "execution_count": 8
        }
      ]
    },
    {
      "cell_type": "code",
      "source": [
        "softmax([-5,0,5])"
      ],
      "metadata": {
        "colab": {
          "base_uri": "https://localhost:8080/"
        },
        "id": "KkbFOyLxuqmd",
        "outputId": "ab78f119-9e14-4501-a157-7d202a91cb7d"
      },
      "execution_count": 9,
      "outputs": [
        {
          "output_type": "execute_result",
          "data": {
            "text/plain": [
              "[array([4.50940412e-05, 6.69254912e-03, 9.93262357e-01])]"
            ]
          },
          "metadata": {},
          "execution_count": 9
        }
      ]
    },
    {
      "cell_type": "code",
      "source": [
        "np.sum(softmax([0,1]))"
      ],
      "metadata": {
        "colab": {
          "base_uri": "https://localhost:8080/"
        },
        "id": "WSYJonbNsR2E",
        "outputId": "a14631c5-96f5-4a8f-b16b-458980452e6f"
      },
      "execution_count": 10,
      "outputs": [
        {
          "output_type": "execute_result",
          "data": {
            "text/plain": [
              "1.0"
            ]
          },
          "metadata": {},
          "execution_count": 10
        }
      ]
    },
    {
      "cell_type": "code",
      "source": [
        "sigmoid([-5,0,5])"
      ],
      "metadata": {
        "colab": {
          "base_uri": "https://localhost:8080/"
        },
        "id": "e0apyinAqjf5",
        "outputId": "69177c66-32ef-4624-aa43-601abfdf6e5b"
      },
      "execution_count": 11,
      "outputs": [
        {
          "output_type": "execute_result",
          "data": {
            "text/plain": [
              "[0.0066928509242848554, 0.5, 0.9933071490757153]"
            ]
          },
          "metadata": {},
          "execution_count": 11
        }
      ]
    },
    {
      "cell_type": "code",
      "source": [
        "xx=[0,1]\n",
        "out = sigmoid(xx)\n",
        "out2= softmax(xx)\n",
        "np.shape(out2)"
      ],
      "metadata": {
        "colab": {
          "base_uri": "https://localhost:8080/"
        },
        "id": "BsP8N3sswMGI",
        "outputId": "f3e24d19-7352-40e9-a6ea-e4480d57259c"
      },
      "execution_count": 12,
      "outputs": [
        {
          "output_type": "execute_result",
          "data": {
            "text/plain": [
              "(1, 2)"
            ]
          },
          "metadata": {},
          "execution_count": 12
        }
      ]
    },
    {
      "cell_type": "code",
      "source": [
        "plt.subplot(121)\n",
        "plt.plot(xx,out)\n",
        "plt.title('sigmoid')\n",
        "\n",
        "plt.subplot(122)\n",
        "plt.plot(xx,np.reshape(out2,(-1,1)))\n",
        "plt.title('softmax')\n",
        "\n",
        "plt.show()"
      ],
      "metadata": {
        "colab": {
          "base_uri": "https://localhost:8080/",
          "height": 281
        },
        "id": "DtoS1JEvwdwI",
        "outputId": "f723b421-7893-45e7-d666-56ad269b3d31"
      },
      "execution_count": 13,
      "outputs": [
        {
          "output_type": "display_data",
          "data": {
            "image/png": "[encoded data removed]",
            "text/plain": [
              "<Figure size 432x288 with 2 Axes>"
            ]
          },
          "metadata": {
            "needs_background": "light"
          }
        }
      ]
    },
    {
      "cell_type": "code",
      "source": [
        "np.exp2(2)"
      ],
      "metadata": {
        "colab": {
          "base_uri": "https://localhost:8080/"
        },
        "id": "ZeELzuPSx-V9",
        "outputId": "1590840c-72f9-49ad-abf9-51f3cde1071e"
      },
      "execution_count": 14,
      "outputs": [
        {
          "output_type": "execute_result",
          "data": {
            "text/plain": [
              "4.0"
            ]
          },
          "metadata": {},
          "execution_count": 14
        }
      ]
    },
    {
      "cell_type": "code",
      "source": [
        "np.power(5,4)"
      ],
      "metadata": {
        "colab": {
          "base_uri": "https://localhost:8080/"
        },
        "id": "HPbq7ldfyfdP",
        "outputId": "2807fe41-f12e-4dd6-dd64-b7acbb9676db"
      },
      "execution_count": 15,
      "outputs": [
        {
          "output_type": "execute_result",
          "data": {
            "text/plain": [
              "625"
            ]
          },
          "metadata": {},
          "execution_count": 15
        }
      ]
    }
  ]
}